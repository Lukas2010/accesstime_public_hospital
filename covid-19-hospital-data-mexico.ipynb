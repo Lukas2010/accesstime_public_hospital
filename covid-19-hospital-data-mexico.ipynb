{
 "cells": [
  {
   "cell_type": "code",
   "execution_count": 1,
   "id": "12c36636",
   "metadata": {
    "_cell_guid": "b1076dfc-b9ad-4769-8c92-a6c4dae69d19",
    "_uuid": "8f2839f25d086af736a60e9eeb907d3b93b6e0e5",
    "execution": {
     "iopub.execute_input": "2025-06-11T20:06:20.590673Z",
     "iopub.status.busy": "2025-06-11T20:06:20.590340Z",
     "iopub.status.idle": "2025-06-11T20:06:22.643294Z",
     "shell.execute_reply": "2025-06-11T20:06:22.642146Z"
    },
    "papermill": {
     "duration": 2.059527,
     "end_time": "2025-06-11T20:06:22.645107",
     "exception": false,
     "start_time": "2025-06-11T20:06:20.585580",
     "status": "completed"
    },
    "tags": []
   },
   "outputs": [
    {
     "name": "stdout",
     "output_type": "stream",
     "text": [
      "/kaggle/input/covid19-dataset/Covid Data.csv\n"
     ]
    }
   ],
   "source": [
    "# This Python 3 environment comes with many helpful analytics libraries installed\n",
    "# It is defined by the kaggle/python Docker image: https://github.com/kaggle/docker-python\n",
    "# For example, here's several helpful packages to load\n",
    "\n",
    "import numpy as np # linear algebra\n",
    "import pandas as pd # data processing, CSV file I/O (e.g. pd.read_csv)\n",
    "\n",
    "# Input data files are available in the read-only \"../input/\" directory\n",
    "# For example, running this (by clicking run or pressing Shift+Enter) will list all files under the input directory\n",
    "\n",
    "import os\n",
    "for dirname, _, filenames in os.walk('/kaggle/input'):\n",
    "    for filename in filenames:\n",
    "        print(os.path.join(dirname, filename))\n",
    "\n",
    "# You can write up to 20GB to the current directory (/kaggle/working/) that gets preserved as output when you create a version using \"Save & Run All\" \n",
    "# You can also write temporary files to /kaggle/temp/, but they won't be saved outside of the current session"
   ]
  },
  {
   "cell_type": "code",
   "execution_count": 2,
   "id": "78f5341e",
   "metadata": {
    "execution": {
     "iopub.execute_input": "2025-06-11T20:06:22.654244Z",
     "iopub.status.busy": "2025-06-11T20:06:22.653544Z",
     "iopub.status.idle": "2025-06-11T20:06:24.777546Z",
     "shell.execute_reply": "2025-06-11T20:06:24.776573Z"
    },
    "papermill": {
     "duration": 2.130852,
     "end_time": "2025-06-11T20:06:24.779490",
     "exception": false,
     "start_time": "2025-06-11T20:06:22.648638",
     "status": "completed"
    },
    "tags": []
   },
   "outputs": [],
   "source": [
    "import seaborn as sns\n",
    "import matplotlib.pyplot as plt"
   ]
  },
  {
   "cell_type": "markdown",
   "id": "379b68d1",
   "metadata": {
    "papermill": {
     "duration": 0.003478,
     "end_time": "2025-06-11T20:06:24.786326",
     "exception": false,
     "start_time": "2025-06-11T20:06:24.782848",
     "status": "completed"
    },
    "tags": []
   },
   "source": [
    "The dataset column description has been provided and i attached it for convenience purposes.\n",
    "\n",
    "sex: 1 for female and 2 for male.\n",
    "age: of the patient.\n",
    "classification: covid test findings. Values 1-3 mean that the patient was diagnosed with covid in different\n",
    "degrees. 4 or higher means that the patient is not a carrier of covid or that the test is inconclusive.\n",
    "\n",
    "patient type: type of care the patient received in the unit. 1 for returned home and 2 for hospitalization.\n",
    "\n",
    "pneumonia: whether the patient already have air sacs inflammation or not.\n",
    "\n",
    "pregnancy: whether the patient is pregnant or not.\n",
    "\n",
    "diabetes: whether the patient has diabetes or not.\n",
    "\n",
    "copd: Indicates whether the patient has Chronic obstructive pulmonary disease or not.\n",
    "\n",
    "asthma: whether the patient has asthma or not.\n",
    "\n",
    "inmsupr: whether the patient is immunosuppressed or not.\n",
    "\n",
    "hypertension: whether the patient has hypertension or not.\n",
    "\n",
    "cardiovascular: whether the patient has heart or blood vessels related disease.\n",
    "\n",
    "renal chronic: whether the patient has chronic renal disease or not.\n",
    "\n",
    "other disease: whether the patient has other disease or not.\n",
    "\n",
    "obesity: whether the patient is obese or not.\n",
    "\n",
    "tobacco: whether the patient is a tobacco user.\n",
    "\n",
    "usmr: Indicates whether the patient treated medical units of the first, second or third level.\n",
    "\n",
    "medical unit: type of institution of the National Health System that provided the care.\n",
    "\n",
    "intubed: whether the patient was connected to the ventilator.\n",
    "\n",
    "icu: Indicates whether the patient had been admitted to an Intensive Care Unit.\n",
    "\n",
    "date died: If the patient died indicate the date of death, and 9999-99-99 otherwise."
   ]
  },
  {
   "cell_type": "markdown",
   "id": "806079ca",
   "metadata": {
    "papermill": {
     "duration": 0.002722,
     "end_time": "2025-06-11T20:06:24.792248",
     "exception": false,
     "start_time": "2025-06-11T20:06:24.789526",
     "status": "completed"
    },
    "tags": []
   },
   "source": [
    "# Data Inspection and Cleaning\n",
    "\n",
    "Import the data from the local repository and inspect its structure"
   ]
  },
  {
   "cell_type": "code",
   "execution_count": 3,
   "id": "a1095ad0",
   "metadata": {
    "execution": {
     "iopub.execute_input": "2025-06-11T20:06:24.799739Z",
     "iopub.status.busy": "2025-06-11T20:06:24.799279Z",
     "iopub.status.idle": "2025-06-11T20:06:27.257421Z",
     "shell.execute_reply": "2025-06-11T20:06:27.256250Z"
    },
    "papermill": {
     "duration": 2.464131,
     "end_time": "2025-06-11T20:06:27.259403",
     "exception": false,
     "start_time": "2025-06-11T20:06:24.795272",
     "status": "completed"
    },
    "tags": []
   },
   "outputs": [
    {
     "name": "stdout",
     "output_type": "stream",
     "text": [
      "   USMER  MEDICAL_UNIT  SEX  PATIENT_TYPE   DATE_DIED  INTUBED  PNEUMONIA  \\\n",
      "0      2             1    1             1  03/05/2020       97          1   \n",
      "1      2             1    2             1  03/06/2020       97          1   \n",
      "2      2             1    2             2  09/06/2020        1          2   \n",
      "3      2             1    1             1  12/06/2020       97          2   \n",
      "4      2             1    2             1  21/06/2020       97          2   \n",
      "\n",
      "   AGE  PREGNANT  DIABETES  ...  ASTHMA  INMSUPR  HIPERTENSION  OTHER_DISEASE  \\\n",
      "0   65         2         2  ...       2        2             1              2   \n",
      "1   72        97         2  ...       2        2             1              2   \n",
      "2   55        97         1  ...       2        2             2              2   \n",
      "3   53         2         2  ...       2        2             2              2   \n",
      "4   68        97         1  ...       2        2             1              2   \n",
      "\n",
      "   CARDIOVASCULAR  OBESITY  RENAL_CHRONIC  TOBACCO  CLASIFFICATION_FINAL  ICU  \n",
      "0               2        2              2        2                     3   97  \n",
      "1               2        1              1        2                     5   97  \n",
      "2               2        2              2        2                     3    2  \n",
      "3               2        2              2        2                     7   97  \n",
      "4               2        2              2        2                     3   97  \n",
      "\n",
      "[5 rows x 21 columns]\n",
      "Index(['USMER', 'MEDICAL_UNIT', 'SEX', 'PATIENT_TYPE', 'DATE_DIED', 'INTUBED',\n",
      "       'PNEUMONIA', 'AGE', 'PREGNANT', 'DIABETES', 'COPD', 'ASTHMA', 'INMSUPR',\n",
      "       'HIPERTENSION', 'OTHER_DISEASE', 'CARDIOVASCULAR', 'OBESITY',\n",
      "       'RENAL_CHRONIC', 'TOBACCO', 'CLASIFFICATION_FINAL', 'ICU'],\n",
      "      dtype='object')\n",
      "<class 'pandas.core.frame.DataFrame'>\n",
      "RangeIndex: 1048575 entries, 0 to 1048574\n",
      "Data columns (total 21 columns):\n",
      " #   Column                Non-Null Count    Dtype \n",
      "---  ------                --------------    ----- \n",
      " 0   USMER                 1048575 non-null  int64 \n",
      " 1   MEDICAL_UNIT          1048575 non-null  int64 \n",
      " 2   SEX                   1048575 non-null  int64 \n",
      " 3   PATIENT_TYPE          1048575 non-null  int64 \n",
      " 4   DATE_DIED             1048575 non-null  object\n",
      " 5   INTUBED               1048575 non-null  int64 \n",
      " 6   PNEUMONIA             1048575 non-null  int64 \n",
      " 7   AGE                   1048575 non-null  int64 \n",
      " 8   PREGNANT              1048575 non-null  int64 \n",
      " 9   DIABETES              1048575 non-null  int64 \n",
      " 10  COPD                  1048575 non-null  int64 \n",
      " 11  ASTHMA                1048575 non-null  int64 \n",
      " 12  INMSUPR               1048575 non-null  int64 \n",
      " 13  HIPERTENSION          1048575 non-null  int64 \n",
      " 14  OTHER_DISEASE         1048575 non-null  int64 \n",
      " 15  CARDIOVASCULAR        1048575 non-null  int64 \n",
      " 16  OBESITY               1048575 non-null  int64 \n",
      " 17  RENAL_CHRONIC         1048575 non-null  int64 \n",
      " 18  TOBACCO               1048575 non-null  int64 \n",
      " 19  CLASIFFICATION_FINAL  1048575 non-null  int64 \n",
      " 20  ICU                   1048575 non-null  int64 \n",
      "dtypes: int64(20), object(1)\n",
      "memory usage: 168.0+ MB\n"
     ]
    }
   ],
   "source": [
    "covid_data = pd.read_csv(\"/kaggle/input/covid19-dataset/Covid Data.csv\")\n",
    "\n",
    "# Inspect the first elements\n",
    "print(covid_data.head())\n",
    "\n",
    "# List the column names\n",
    "print(covid_data.columns)\n",
    "\n",
    "# Get some basic information on the data\n",
    "covid_data.info()"
   ]
  },
  {
   "cell_type": "markdown",
   "id": "e0267b07",
   "metadata": {
    "papermill": {
     "duration": 0.003057,
     "end_time": "2025-06-11T20:06:27.266881",
     "exception": false,
     "start_time": "2025-06-11T20:06:27.263824",
     "status": "completed"
    },
    "tags": []
   },
   "source": [
    "There seem to be some spelling errors in the name of the columns. I changed those in order to provide more consistency with the list of the column names provided by the author"
   ]
  },
  {
   "cell_type": "code",
   "execution_count": 4,
   "id": "86fffa9b",
   "metadata": {
    "execution": {
     "iopub.execute_input": "2025-06-11T20:06:27.274683Z",
     "iopub.status.busy": "2025-06-11T20:06:27.274320Z",
     "iopub.status.idle": "2025-06-11T20:06:27.349745Z",
     "shell.execute_reply": "2025-06-11T20:06:27.348732Z"
    },
    "papermill": {
     "duration": 0.081463,
     "end_time": "2025-06-11T20:06:27.351643",
     "exception": false,
     "start_time": "2025-06-11T20:06:27.270180",
     "status": "completed"
    },
    "tags": []
   },
   "outputs": [
    {
     "data": {
      "text/plain": [
       "Index(['USMR', 'MEDICAL_UNIT', 'SEX', 'PATIENT_TYPE', 'DATE_DIED', 'INTUBED',\n",
       "       'PNEUMONIA', 'AGE', 'PREGNANT', 'DIABETES', 'COPD', 'ASTHMA', 'INMSUPR',\n",
       "       'HYPERTENSION', 'OTHER_DISEASE', 'CARDIOVASCULAR', 'OBESITY',\n",
       "       'RENAL_CHRONIC', 'TOBACCO', 'CLASIFFICATION_FINAL', 'ICU'],\n",
       "      dtype='object')"
      ]
     },
     "execution_count": 4,
     "metadata": {},
     "output_type": "execute_result"
    }
   ],
   "source": [
    "covid_data = covid_data.rename(columns = {\"USMER\" : \"USMR\",\"HIPERTENSION\": \"HYPERTENSION\" })\n",
    "\n",
    "covid_data.columns"
   ]
  },
  {
   "cell_type": "markdown",
   "id": "121c8c90",
   "metadata": {
    "papermill": {
     "duration": 0.003178,
     "end_time": "2025-06-11T20:06:27.358302",
     "exception": false,
     "start_time": "2025-06-11T20:06:27.355124",
     "status": "completed"
    },
    "tags": []
   },
   "source": [
    "Next steps\n",
    "\n",
    "1) Missing values are coded as numeric, i change those to NaN\n",
    "2) check for missing values in main outcome variable date_died\n",
    "3) change date of death to binary format (1: has died, 2: alive)\n",
    "4) change classification_final to binary (1: has covid, 2: does not have covid)"
   ]
  },
  {
   "cell_type": "code",
   "execution_count": 5,
   "id": "9cc1075e",
   "metadata": {
    "execution": {
     "iopub.execute_input": "2025-06-11T20:06:27.366789Z",
     "iopub.status.busy": "2025-06-11T20:06:27.366457Z",
     "iopub.status.idle": "2025-06-11T20:06:27.913771Z",
     "shell.execute_reply": "2025-06-11T20:06:27.912688Z"
    },
    "papermill": {
     "duration": 0.553564,
     "end_time": "2025-06-11T20:06:27.915475",
     "exception": false,
     "start_time": "2025-06-11T20:06:27.361911",
     "status": "completed"
    },
    "tags": []
   },
   "outputs": [
    {
     "name": "stdout",
     "output_type": "stream",
     "text": [
      "Sum of NA values in the datei_died column is:  0\n"
     ]
    }
   ],
   "source": [
    "# 1. replace missing values\n",
    "covid_data = covid_data.replace(97, np.NaN)\n",
    "covid_data = covid_data.replace(99, np.NaN)\n",
    "\n",
    "# 2. check for missing values in date_died\n",
    "\n",
    "print(\"Sum of NA values in the datei_died column is: \", covid_data['DATE_DIED'].isnull().sum())\n",
    "\n",
    "# 3. change data of death to binary\n",
    "\n",
    "covid_data.loc[covid_data.DATE_DIED != \"9999-99-99\" ,'DATE_DIED'] = 1\n",
    "covid_data.loc[covid_data.DATE_DIED == \"9999-99-99\" ,'DATE_DIED'] = 2\n",
    "\n",
    "# 4. change classfication_final to binary\n",
    "\n",
    "covid_data.loc[covid_data.CLASIFFICATION_FINAL <= 3, 'CLASIFFICATION_FINAL'] = 1\n",
    "covid_data.loc[covid_data.CLASIFFICATION_FINAL > 3, 'CLASIFFICATION_FINAL'] = 2\n",
    "\n"
   ]
  },
  {
   "cell_type": "code",
   "execution_count": 6,
   "id": "e5f989f1",
   "metadata": {
    "execution": {
     "iopub.execute_input": "2025-06-11T20:06:27.923453Z",
     "iopub.status.busy": "2025-06-11T20:06:27.922831Z",
     "iopub.status.idle": "2025-06-11T20:06:28.049531Z",
     "shell.execute_reply": "2025-06-11T20:06:28.048264Z"
    },
    "papermill": {
     "duration": 0.132216,
     "end_time": "2025-06-11T20:06:28.051014",
     "exception": false,
     "start_time": "2025-06-11T20:06:27.918798",
     "status": "completed"
    },
    "tags": []
   },
   "outputs": [
    {
     "name": "stdout",
     "output_type": "stream",
     "text": [
      "   USMR  MEDICAL_UNIT  SEX  PATIENT_TYPE DATE_DIED  INTUBED  PNEUMONIA   AGE  \\\n",
      "0     2             1    1             1         1      NaN        1.0  65.0   \n",
      "1     2             1    2             1         1      NaN        1.0  72.0   \n",
      "2     2             1    2             2         1      1.0        2.0  55.0   \n",
      "3     2             1    1             1         1      NaN        2.0  53.0   \n",
      "4     2             1    2             1         1      NaN        2.0  68.0   \n",
      "\n",
      "   PREGNANT  DIABETES  ...  ASTHMA  INMSUPR  HYPERTENSION  OTHER_DISEASE  \\\n",
      "0       2.0         2  ...       2        2             1              2   \n",
      "1       NaN         2  ...       2        2             1              2   \n",
      "2       NaN         1  ...       2        2             2              2   \n",
      "3       2.0         2  ...       2        2             2              2   \n",
      "4       NaN         1  ...       2        2             1              2   \n",
      "\n",
      "   CARDIOVASCULAR  OBESITY  RENAL_CHRONIC  TOBACCO  CLASIFFICATION_FINAL  ICU  \n",
      "0               2        2              2        2                     1  NaN  \n",
      "1               2        1              1        2                     2  NaN  \n",
      "2               2        2              2        2                     1  2.0  \n",
      "3               2        2              2        2                     2  NaN  \n",
      "4               2        2              2        2                     1  NaN  \n",
      "\n",
      "[5 rows x 21 columns]\n",
      "<class 'pandas.core.frame.DataFrame'>\n",
      "RangeIndex: 1048575 entries, 0 to 1048574\n",
      "Data columns (total 21 columns):\n",
      " #   Column                Non-Null Count    Dtype  \n",
      "---  ------                --------------    -----  \n",
      " 0   USMR                  1048575 non-null  int64  \n",
      " 1   MEDICAL_UNIT          1048575 non-null  int64  \n",
      " 2   SEX                   1048575 non-null  int64  \n",
      " 3   PATIENT_TYPE          1048575 non-null  int64  \n",
      " 4   DATE_DIED             1048575 non-null  object \n",
      " 5   INTUBED               192706 non-null   float64\n",
      " 6   PNEUMONIA             1032572 non-null  float64\n",
      " 7   AGE                   1048354 non-null  float64\n",
      " 8   PREGNANT              525064 non-null   float64\n",
      " 9   DIABETES              1048575 non-null  int64  \n",
      " 10  COPD                  1048575 non-null  int64  \n",
      " 11  ASTHMA                1048575 non-null  int64  \n",
      " 12  INMSUPR               1048575 non-null  int64  \n",
      " 13  HYPERTENSION          1048575 non-null  int64  \n",
      " 14  OTHER_DISEASE         1048575 non-null  int64  \n",
      " 15  CARDIOVASCULAR        1048575 non-null  int64  \n",
      " 16  OBESITY               1048575 non-null  int64  \n",
      " 17  RENAL_CHRONIC         1048575 non-null  int64  \n",
      " 18  TOBACCO               1048575 non-null  int64  \n",
      " 19  CLASIFFICATION_FINAL  1048575 non-null  int64  \n",
      " 20  ICU                   192543 non-null   float64\n",
      "dtypes: float64(5), int64(15), object(1)\n",
      "memory usage: 168.0+ MB\n",
      "None\n"
     ]
    },
    {
     "name": "stderr",
     "output_type": "stream",
     "text": [
      "/usr/local/lib/python3.11/dist-packages/pandas/io/formats/format.py:1458: RuntimeWarning: invalid value encountered in greater\n",
      "  has_large_values = (abs_vals > 1e6).any()\n",
      "/usr/local/lib/python3.11/dist-packages/pandas/io/formats/format.py:1459: RuntimeWarning: invalid value encountered in less\n",
      "  has_small_values = ((abs_vals < 10 ** (-self.digits)) & (abs_vals > 0)).any()\n",
      "/usr/local/lib/python3.11/dist-packages/pandas/io/formats/format.py:1459: RuntimeWarning: invalid value encountered in greater\n",
      "  has_small_values = ((abs_vals < 10 ** (-self.digits)) & (abs_vals > 0)).any()\n"
     ]
    }
   ],
   "source": [
    "print(covid_data.head())\n",
    "\n",
    "print(covid_data.info())"
   ]
  },
  {
   "cell_type": "markdown",
   "id": "de6bb87a",
   "metadata": {
    "papermill": {
     "duration": 0.003089,
     "end_time": "2025-06-11T20:06:28.057789",
     "exception": false,
     "start_time": "2025-06-11T20:06:28.054700",
     "status": "completed"
    },
    "tags": []
   },
   "source": [
    "Some column types were changed to object in the process. I chose to convert them back to int.\n"
   ]
  },
  {
   "cell_type": "code",
   "execution_count": 7,
   "id": "86ad578b",
   "metadata": {
    "execution": {
     "iopub.execute_input": "2025-06-11T20:06:28.065780Z",
     "iopub.status.busy": "2025-06-11T20:06:28.065447Z",
     "iopub.status.idle": "2025-06-11T20:06:28.589554Z",
     "shell.execute_reply": "2025-06-11T20:06:28.588405Z"
    },
    "papermill": {
     "duration": 0.529942,
     "end_time": "2025-06-11T20:06:28.591112",
     "exception": false,
     "start_time": "2025-06-11T20:06:28.061170",
     "status": "completed"
    },
    "tags": []
   },
   "outputs": [
    {
     "name": "stdout",
     "output_type": "stream",
     "text": [
      "<class 'pandas.core.frame.DataFrame'>\n",
      "RangeIndex: 1048575 entries, 0 to 1048574\n",
      "Data columns (total 21 columns):\n",
      " #   Column                Non-Null Count    Dtype  \n",
      "---  ------                --------------    -----  \n",
      " 0   USMR                  1048575 non-null  int64  \n",
      " 1   MEDICAL_UNIT          1048575 non-null  int64  \n",
      " 2   SEX                   1048575 non-null  int64  \n",
      " 3   PATIENT_TYPE          1048575 non-null  int64  \n",
      " 4   DECEASED              1048575 non-null  float64\n",
      " 5   INTUBED               192706 non-null   float64\n",
      " 6   PNEUMONIA             1032572 non-null  float64\n",
      " 7   AGE                   1048354 non-null  float64\n",
      " 8   PREGNANT              525064 non-null   float64\n",
      " 9   DIABETES              1048575 non-null  int64  \n",
      " 10  COPD                  1048575 non-null  int64  \n",
      " 11  ASTHMA                1048575 non-null  int64  \n",
      " 12  INMSUPR               1048575 non-null  int64  \n",
      " 13  HYPERTENSION          1048575 non-null  int64  \n",
      " 14  OTHER_DISEASE         1048575 non-null  int64  \n",
      " 15  CARDIOVASCULAR        1048575 non-null  int64  \n",
      " 16  OBESITY               1048575 non-null  int64  \n",
      " 17  RENAL_CHRONIC         1048575 non-null  int64  \n",
      " 18  TOBACCO               1048575 non-null  int64  \n",
      " 19  CLASIFFICATION_FINAL  1048575 non-null  int64  \n",
      " 20  ICU                   192543 non-null   float64\n",
      "dtypes: float64(6), int64(15)\n",
      "memory usage: 168.0 MB\n",
      "None\n"
     ]
    }
   ],
   "source": [
    "# convert the date_died column to float\n",
    "covid_data.DATE_DIED = covid_data.DATE_DIED.apply(lambda x: float(x))\n",
    "# change name of the date_died column to represent the meaning in a better way\n",
    "covid_data = covid_data.rename(columns = {\"DATE_DIED\": \"DECEASED\"})\n",
    "# check the resulting data\n",
    "print(covid_data.info())"
   ]
  },
  {
   "cell_type": "markdown",
   "id": "8e1eb471",
   "metadata": {
    "papermill": {
     "duration": 0.003377,
     "end_time": "2025-06-11T20:06:28.598543",
     "exception": false,
     "start_time": "2025-06-11T20:06:28.595166",
     "status": "completed"
    },
    "tags": []
   },
   "source": [
    "# Data visualisation \n",
    "\n",
    "First visualisation of the data for more insight\n",
    "\n",
    "1) How many people were treated as inpatient vs. outpatient\n",
    "2) How many people had covid\n",
    "3) How many patients visited the ICU"
   ]
  },
  {
   "cell_type": "code",
   "execution_count": 8,
   "id": "58f5beca",
   "metadata": {
    "execution": {
     "iopub.execute_input": "2025-06-11T20:06:28.606896Z",
     "iopub.status.busy": "2025-06-11T20:06:28.606543Z",
     "iopub.status.idle": "2025-06-11T20:06:29.007000Z",
     "shell.execute_reply": "2025-06-11T20:06:29.006060Z"
    },
    "papermill": {
     "duration": 0.406443,
     "end_time": "2025-06-11T20:06:29.008553",
     "exception": false,
     "start_time": "2025-06-11T20:06:28.602110",
     "status": "completed"
    },
    "tags": []
   },
   "outputs": [
    {
     "data": {
      "image/png": "[encoded data removed]",
      "text/plain": [
       "<Figure size 640x480 with 1 Axes>"
      ]
     },
     "metadata": {},
     "output_type": "display_data"
    }
   ],
   "source": [
    "patient_type_count = list()\n",
    "patient_type_count.append(covid_data[covid_data.PATIENT_TYPE == 1].PATIENT_TYPE.count())\n",
    "patient_type_count.append(covid_data[covid_data.PATIENT_TYPE == 2].PATIENT_TYPE.count())\n",
    "patient_type = [\"Outpatient\", \"Inpatient\"]\n",
    "\n",
    "plt.bar(patient_type, height = patient_type_count)\n",
    "plt.title(\"Count of inpatient vs. outpatient visits\")\n",
    "plt.xlabel(\"Type of visit\")\n",
    "plt.ylabel(\"Count\")\n",
    "plt.show()"
   ]
  },
  {
   "cell_type": "code",
   "execution_count": 9,
   "id": "becbab9a",
   "metadata": {
    "execution": {
     "iopub.execute_input": "2025-06-11T20:06:29.018089Z",
     "iopub.status.busy": "2025-06-11T20:06:29.017680Z",
     "iopub.status.idle": "2025-06-11T20:06:29.339704Z",
     "shell.execute_reply": "2025-06-11T20:06:29.338800Z"
    },
    "papermill": {
     "duration": 0.328491,
     "end_time": "2025-06-11T20:06:29.341262",
     "exception": false,
     "start_time": "2025-06-11T20:06:29.012771",
     "status": "completed"
    },
    "tags": []
   },
   "outputs": [
    {
     "data": {
      "image/png": "[encoded data removed]",
      "text/plain": [
       "<Figure size 640x480 with 1 Axes>"
      ]
     },
     "metadata": {},
     "output_type": "display_data"
    }
   ],
   "source": [
    "covid_count = list()\n",
    "covid_count.append(covid_data[covid_data.CLASIFFICATION_FINAL == 1].CLASIFFICATION_FINAL.count())\n",
    "covid_count.append(covid_data[covid_data.CLASIFFICATION_FINAL == 2].CLASIFFICATION_FINAL.count())\n",
    "covid_type = [\"COVID-19 positive\", \"COVID-19 negative\"]\n",
    "\n",
    "plt.bar(covid_type, height = covid_count)\n",
    "plt.title(\"Count of COVID-19 positive vs. COVID-19 negative patients\")\n",
    "plt.xlabel(\"COVID-19 Status\")\n",
    "plt.ylabel(\"Count\")\n",
    "plt.show()"
   ]
  }
 ],
 "metadata": {
  "kaggle": {
   "accelerator": "none",
   "dataSources": [
    {
     "datasetId": 2633044,
     "sourceId": 4504149,
     "sourceType": "datasetVersion"
    }
   ],
   "dockerImageVersionId": 31040,
   "isGpuEnabled": false,
   "isInternetEnabled": true,
   "language": "python",
   "sourceType": "notebook"
  },
  "kernelspec": {
   "display_name": "Python 3",
   "language": "python",
   "name": "python3"
  },
  "language_info": {
   "codemirror_mode": {
    "name": "ipython",
    "version": 3
   },
   "file_extension": ".py",
   "mimetype": "text/x-python",
   "name": "python",
   "nbconvert_exporter": "python",
   "pygments_lexer": "ipython3",
   "version": "3.11.11"
  },
  "papermill": {
   "default_parameters": {},
   "duration": 14.478685,
   "end_time": "2025-06-11T20:06:30.066093",
   "environment_variables": {},
   "exception": null,
   "input_path": "__notebook__.ipynb",
   "output_path": "__notebook__.ipynb",
   "parameters": {},
   "start_time": "2025-06-11T20:06:15.587408",
   "version": "2.6.0"
  }
 },
 "nbformat": 4,
 "nbformat_minor": 5
}
