{
 "cells": [
  {
   "cell_type": "code",
   "execution_count": 1,
   "id": "9b359b8a",
   "metadata": {
    "_cell_guid": "b1076dfc-b9ad-4769-8c92-a6c4dae69d19",
    "_uuid": "8f2839f25d086af736a60e9eeb907d3b93b6e0e5",
    "execution": {
     "iopub.execute_input": "2025-06-11T12:44:22.239891Z",
     "iopub.status.busy": "2025-06-11T12:44:22.239385Z",
     "iopub.status.idle": "2025-06-11T12:44:24.521940Z",
     "shell.execute_reply": "2025-06-11T12:44:24.520676Z"
    },
    "papermill": {
     "duration": 2.28981,
     "end_time": "2025-06-11T12:44:24.523522",
     "exception": false,
     "start_time": "2025-06-11T12:44:22.233712",
     "status": "completed"
    },
    "tags": []
   },
   "outputs": [
    {
     "name": "stdout",
     "output_type": "stream",
     "text": [
      "/kaggle/input/covid19-dataset/Covid Data.csv\n"
     ]
    }
   ],
   "source": [
    "# This Python 3 environment comes with many helpful analytics libraries installed\n",
    "# It is defined by the kaggle/python Docker image: https://github.com/kaggle/docker-python\n",
    "# For example, here's several helpful packages to load\n",
    "\n",
    "import numpy as np # linear algebra\n",
    "import pandas as pd # data processing, CSV file I/O (e.g. pd.read_csv)\n",
    "\n",
    "# Input data files are available in the read-only \"../input/\" directory\n",
    "# For example, running this (by clicking run or pressing Shift+Enter) will list all files under the input directory\n",
    "\n",
    "import os\n",
    "for dirname, _, filenames in os.walk('/kaggle/input'):\n",
    "    for filename in filenames:\n",
    "        print(os.path.join(dirname, filename))\n",
    "\n",
    "# You can write up to 20GB to the current directory (/kaggle/working/) that gets preserved as output when you create a version using \"Save & Run All\" \n",
    "# You can also write temporary files to /kaggle/temp/, but they won't be saved outside of the current session"
   ]
  },
  {
   "cell_type": "markdown",
   "id": "910570f7",
   "metadata": {
    "papermill": {
     "duration": 0.002545,
     "end_time": "2025-06-11T12:44:24.529427",
     "exception": false,
     "start_time": "2025-06-11T12:44:24.526882",
     "status": "completed"
    },
    "tags": []
   },
   "source": [
    "The dataset column description has been provided and i attached it for convenience purposes.\n",
    "\n",
    "sex: 1 for female and 2 for male.\n",
    "age: of the patient.\n",
    "classification: covid test findings. Values 1-3 mean that the patient was diagnosed with covid in different\n",
    "degrees. 4 or higher means that the patient is not a carrier of covid or that the test is inconclusive.\n",
    "\n",
    "patient type: type of care the patient received in the unit. 1 for returned home and 2 for hospitalization.\n",
    "\n",
    "pneumonia: whether the patient already have air sacs inflammation or not.\n",
    "\n",
    "pregnancy: whether the patient is pregnant or not.\n",
    "\n",
    "diabetes: whether the patient has diabetes or not.\n",
    "\n",
    "copd: Indicates whether the patient has Chronic obstructive pulmonary disease or not.\n",
    "\n",
    "asthma: whether the patient has asthma or not.\n",
    "\n",
    "inmsupr: whether the patient is immunosuppressed or not.\n",
    "\n",
    "hypertension: whether the patient has hypertension or not.\n",
    "\n",
    "cardiovascular: whether the patient has heart or blood vessels related disease.\n",
    "\n",
    "renal chronic: whether the patient has chronic renal disease or not.\n",
    "\n",
    "other disease: whether the patient has other disease or not.\n",
    "\n",
    "obesity: whether the patient is obese or not.\n",
    "\n",
    "tobacco: whether the patient is a tobacco user.\n",
    "\n",
    "usmr: Indicates whether the patient treated medical units of the first, second or third level.\n",
    "\n",
    "medical unit: type of institution of the National Health System that provided the care.\n",
    "\n",
    "intubed: whether the patient was connected to the ventilator.\n",
    "\n",
    "icu: Indicates whether the patient had been admitted to an Intensive Care Unit.\n",
    "\n",
    "date died: If the patient died indicate the date of death, and 9999-99-99 otherwise."
   ]
  },
  {
   "cell_type": "markdown",
   "id": "7b227fac",
   "metadata": {
    "papermill": {
     "duration": 0.002921,
     "end_time": "2025-06-11T12:44:24.535690",
     "exception": false,
     "start_time": "2025-06-11T12:44:24.532769",
     "status": "completed"
    },
    "tags": []
   },
   "source": [
    "Import the data from the local repository. And inspect the first rows.  "
   ]
  },
  {
   "cell_type": "code",
   "execution_count": 2,
   "id": "ed0ddb24",
   "metadata": {
    "execution": {
     "iopub.execute_input": "2025-06-11T12:44:24.543014Z",
     "iopub.status.busy": "2025-06-11T12:44:24.542518Z",
     "iopub.status.idle": "2025-06-11T12:44:27.136367Z",
     "shell.execute_reply": "2025-06-11T12:44:27.134877Z"
    },
    "papermill": {
     "duration": 2.612214,
     "end_time": "2025-06-11T12:44:27.150964",
     "exception": false,
     "start_time": "2025-06-11T12:44:24.538750",
     "status": "completed"
    },
    "tags": []
   },
   "outputs": [
    {
     "name": "stdout",
     "output_type": "stream",
     "text": [
      "   USMER  MEDICAL_UNIT  SEX  PATIENT_TYPE   DATE_DIED  INTUBED  PNEUMONIA  \\\n",
      "0      2             1    1             1  03/05/2020       97          1   \n",
      "1      2             1    2             1  03/06/2020       97          1   \n",
      "2      2             1    2             2  09/06/2020        1          2   \n",
      "3      2             1    1             1  12/06/2020       97          2   \n",
      "4      2             1    2             1  21/06/2020       97          2   \n",
      "\n",
      "   AGE  PREGNANT  DIABETES  ...  ASTHMA  INMSUPR  HIPERTENSION  OTHER_DISEASE  \\\n",
      "0   65         2         2  ...       2        2             1              2   \n",
      "1   72        97         2  ...       2        2             1              2   \n",
      "2   55        97         1  ...       2        2             2              2   \n",
      "3   53         2         2  ...       2        2             2              2   \n",
      "4   68        97         1  ...       2        2             1              2   \n",
      "\n",
      "   CARDIOVASCULAR  OBESITY  RENAL_CHRONIC  TOBACCO  CLASIFFICATION_FINAL  ICU  \n",
      "0               2        2              2        2                     3   97  \n",
      "1               2        1              1        2                     5   97  \n",
      "2               2        2              2        2                     3    2  \n",
      "3               2        2              2        2                     7   97  \n",
      "4               2        2              2        2                     3   97  \n",
      "\n",
      "[5 rows x 21 columns]\n",
      "Index(['USMER', 'MEDICAL_UNIT', 'SEX', 'PATIENT_TYPE', 'DATE_DIED', 'INTUBED',\n",
      "       'PNEUMONIA', 'AGE', 'PREGNANT', 'DIABETES', 'COPD', 'ASTHMA', 'INMSUPR',\n",
      "       'HIPERTENSION', 'OTHER_DISEASE', 'CARDIOVASCULAR', 'OBESITY',\n",
      "       'RENAL_CHRONIC', 'TOBACCO', 'CLASIFFICATION_FINAL', 'ICU'],\n",
      "      dtype='object')\n"
     ]
    }
   ],
   "source": [
    "covid_data = pd.read_csv(\"/kaggle/input/covid19-dataset/Covid Data.csv\")\n",
    "\n",
    "# Inspect the first elements\n",
    "print(covid_data.head())\n",
    "\n",
    "# List the column names\n",
    "print(covid_data.columns)"
   ]
  },
  {
   "cell_type": "markdown",
   "id": "6cb9e0b0",
   "metadata": {
    "papermill": {
     "duration": 0.002777,
     "end_time": "2025-06-11T12:44:27.157186",
     "exception": false,
     "start_time": "2025-06-11T12:44:27.154409",
     "status": "completed"
    },
    "tags": []
   },
   "source": [
    "There seem to be some spelling errors in the name of the columns. I changed those in order to provide more consistency with the list of the column names provided by the author"
   ]
  },
  {
   "cell_type": "code",
   "execution_count": 3,
   "id": "4bcabbf5",
   "metadata": {
    "execution": {
     "iopub.execute_input": "2025-06-11T12:44:27.164370Z",
     "iopub.status.busy": "2025-06-11T12:44:27.163986Z",
     "iopub.status.idle": "2025-06-11T12:44:27.262967Z",
     "shell.execute_reply": "2025-06-11T12:44:27.261984Z"
    },
    "papermill": {
     "duration": 0.104796,
     "end_time": "2025-06-11T12:44:27.264783",
     "exception": false,
     "start_time": "2025-06-11T12:44:27.159987",
     "status": "completed"
    },
    "tags": []
   },
   "outputs": [
    {
     "data": {
      "text/plain": [
       "Index(['USMR', 'MEDICAL_UNIT', 'SEX', 'PATIENT_TYPE', 'DATE_DIED', 'INTUBED',\n",
       "       'PNEUMONIA', 'AGE', 'PREGNANT', 'DIABETES', 'COPD', 'ASTHMA', 'INMSUPR',\n",
       "       'HYPERTENSION', 'OTHER_DISEASE', 'CARDIOVASCULAR', 'OBESITY',\n",
       "       'RENAL_CHRONIC', 'TOBACCO', 'CLASIFFICATION_FINAL', 'ICU'],\n",
       "      dtype='object')"
      ]
     },
     "execution_count": 3,
     "metadata": {},
     "output_type": "execute_result"
    }
   ],
   "source": [
    "covid_data = covid_data.rename(columns = {\"USMER\" : \"USMR\",\"HIPERTENSION\": \"HYPERTENSION\" })\n",
    "\n",
    "covid_data.columns"
   ]
  },
  {
   "cell_type": "markdown",
   "id": "df39b070",
   "metadata": {
    "papermill": {
     "duration": 0.004297,
     "end_time": "2025-06-11T12:44:27.272655",
     "exception": false,
     "start_time": "2025-06-11T12:44:27.268358",
     "status": "completed"
    },
    "tags": []
   },
   "source": [
    "Next steps\n",
    "\n",
    "1) replace missing values\n",
    "2) check for missing values in main outcome variable date_died\n",
    "3) change date of death to binary format (1: has died, 2: alive)\n",
    "4) change classification_final to binary (1: has covid, 2: does not have covid)"
   ]
  },
  {
   "cell_type": "code",
   "execution_count": 4,
   "id": "fd706d8a",
   "metadata": {
    "execution": {
     "iopub.execute_input": "2025-06-11T12:44:27.280573Z",
     "iopub.status.busy": "2025-06-11T12:44:27.280267Z",
     "iopub.status.idle": "2025-06-11T12:44:27.982361Z",
     "shell.execute_reply": "2025-06-11T12:44:27.981012Z"
    },
    "papermill": {
     "duration": 0.707964,
     "end_time": "2025-06-11T12:44:27.984050",
     "exception": false,
     "start_time": "2025-06-11T12:44:27.276086",
     "status": "completed"
    },
    "tags": []
   },
   "outputs": [
    {
     "name": "stdout",
     "output_type": "stream",
     "text": [
      "Sum of NA values in the datei_died column is:  0\n"
     ]
    }
   ],
   "source": [
    "# 1. replace missing values\n",
    "covid_data = covid_data.replace(97, np.NaN)\n",
    "covid_data = covid_data.replace(99, np.NaN)\n",
    "\n",
    "# 2. check for missing values in date_died\n",
    "\n",
    "print(\"Sum of NA values in the datei_died column is: \", covid_data['DATE_DIED'].isnull().sum())\n",
    "\n",
    "# 3. change data of death to binary\n",
    "\n",
    "covid_data.loc[covid_data.DATE_DIED != \"9999-99-99\" ,'DATE_DIED'] = 1\n",
    "covid_data.loc[covid_data.DATE_DIED == \"9999-99-99\" ,'DATE_DIED'] = 2\n",
    "\n",
    "# 4. change classfication_final to binary\n",
    "\n",
    "covid_data.loc[covid_data.CLASIFFICATION_FINAL <= 3, 'CLASIFFICATION_FINAL'] = 1\n",
    "covid_data.loc[covid_data.CLASIFFICATION_FINAL > 3, 'CLASIFFICATION_FINAL'] = 2\n",
    "\n"
   ]
  },
  {
   "cell_type": "code",
   "execution_count": 5,
   "id": "0470294d",
   "metadata": {
    "execution": {
     "iopub.execute_input": "2025-06-11T12:44:27.992073Z",
     "iopub.status.busy": "2025-06-11T12:44:27.991686Z",
     "iopub.status.idle": "2025-06-11T12:44:28.015273Z",
     "shell.execute_reply": "2025-06-11T12:44:28.013157Z"
    },
    "papermill": {
     "duration": 0.030012,
     "end_time": "2025-06-11T12:44:28.017333",
     "exception": false,
     "start_time": "2025-06-11T12:44:27.987321",
     "status": "completed"
    },
    "tags": []
   },
   "outputs": [
    {
     "name": "stdout",
     "output_type": "stream",
     "text": [
      "   USMR  MEDICAL_UNIT  SEX  PATIENT_TYPE DATE_DIED  INTUBED  PNEUMONIA   AGE  \\\n",
      "0     2             1    1             1         1      NaN        1.0  65.0   \n",
      "1     2             1    2             1         1      NaN        1.0  72.0   \n",
      "2     2             1    2             2         1      1.0        2.0  55.0   \n",
      "3     2             1    1             1         1      NaN        2.0  53.0   \n",
      "4     2             1    2             1         1      NaN        2.0  68.0   \n",
      "\n",
      "   PREGNANT  DIABETES  ...  ASTHMA  INMSUPR  HYPERTENSION  OTHER_DISEASE  \\\n",
      "0       2.0         2  ...       2        2             1              2   \n",
      "1       NaN         2  ...       2        2             1              2   \n",
      "2       NaN         1  ...       2        2             2              2   \n",
      "3       2.0         2  ...       2        2             2              2   \n",
      "4       NaN         1  ...       2        2             1              2   \n",
      "\n",
      "   CARDIOVASCULAR  OBESITY  RENAL_CHRONIC  TOBACCO  CLASIFFICATION_FINAL  ICU  \n",
      "0               2        2              2        2                     1  NaN  \n",
      "1               2        1              1        2                     2  NaN  \n",
      "2               2        2              2        2                     1  2.0  \n",
      "3               2        2              2        2                     2  NaN  \n",
      "4               2        2              2        2                     1  NaN  \n",
      "\n",
      "[5 rows x 21 columns]\n"
     ]
    },
    {
     "name": "stderr",
     "output_type": "stream",
     "text": [
      "/usr/local/lib/python3.11/dist-packages/pandas/io/formats/format.py:1458: RuntimeWarning: invalid value encountered in greater\n",
      "  has_large_values = (abs_vals > 1e6).any()\n",
      "/usr/local/lib/python3.11/dist-packages/pandas/io/formats/format.py:1459: RuntimeWarning: invalid value encountered in less\n",
      "  has_small_values = ((abs_vals < 10 ** (-self.digits)) & (abs_vals > 0)).any()\n",
      "/usr/local/lib/python3.11/dist-packages/pandas/io/formats/format.py:1459: RuntimeWarning: invalid value encountered in greater\n",
      "  has_small_values = ((abs_vals < 10 ** (-self.digits)) & (abs_vals > 0)).any()\n"
     ]
    }
   ],
   "source": [
    "print(covid_data.head())"
   ]
  },
  {
   "cell_type": "code",
   "execution_count": 6,
   "id": "a53b1cac",
   "metadata": {
    "execution": {
     "iopub.execute_input": "2025-06-11T12:44:28.025240Z",
     "iopub.status.busy": "2025-06-11T12:44:28.024907Z",
     "iopub.status.idle": "2025-06-11T12:44:28.030015Z",
     "shell.execute_reply": "2025-06-11T12:44:28.028906Z"
    },
    "papermill": {
     "duration": 0.010974,
     "end_time": "2025-06-11T12:44:28.031681",
     "exception": false,
     "start_time": "2025-06-11T12:44:28.020707",
     "status": "completed"
    },
    "tags": []
   },
   "outputs": [],
   "source": [
    "#print(covid_data.head())\n",
    "\n",
    "# IMPORTANT TO DO: check if there are NAs in this column and rename column\n",
    "\n",
    "\n"
   ]
  },
  {
   "cell_type": "code",
   "execution_count": 7,
   "id": "8c589545",
   "metadata": {
    "execution": {
     "iopub.execute_input": "2025-06-11T12:44:28.041273Z",
     "iopub.status.busy": "2025-06-11T12:44:28.040888Z",
     "iopub.status.idle": "2025-06-11T12:44:28.058494Z",
     "shell.execute_reply": "2025-06-11T12:44:28.057492Z"
    },
    "papermill": {
     "duration": 0.024925,
     "end_time": "2025-06-11T12:44:28.060840",
     "exception": false,
     "start_time": "2025-06-11T12:44:28.035915",
     "status": "completed"
    },
    "tags": []
   },
   "outputs": [
    {
     "name": "stdout",
     "output_type": "stream",
     "text": [
      "   USMR  MEDICAL_UNIT  SEX  PATIENT_TYPE DATE_DIED  INTUBED  PNEUMONIA   AGE  \\\n",
      "1     2             1    2             1         1      NaN        1.0  72.0   \n",
      "2     2             1    2             2         1      1.0        2.0  55.0   \n",
      "3     2             1    1             1         1      NaN        2.0  53.0   \n",
      "4     2             1    2             1         1      NaN        2.0  68.0   \n",
      "5     2             1    1             2         2      2.0        1.0  40.0   \n",
      "6     2             1    1             1         2      NaN        2.0  64.0   \n",
      "7     2             1    1             1         2      NaN        1.0  64.0   \n",
      "8     2             1    1             2         2      2.0        2.0  37.0   \n",
      "9     2             1    1             2         2      2.0        2.0  25.0   \n",
      "\n",
      "   PREGNANT  DIABETES  ...  ASTHMA  INMSUPR  HYPERTENSION  OTHER_DISEASE  \\\n",
      "1       NaN         2  ...       2        2             1              2   \n",
      "2       NaN         1  ...       2        2             2              2   \n",
      "3       2.0         2  ...       2        2             2              2   \n",
      "4       NaN         1  ...       2        2             1              2   \n",
      "5       2.0         2  ...       2        2             2              2   \n",
      "6       2.0         2  ...       2        2             2              2   \n",
      "7       2.0         1  ...       2        1             1              2   \n",
      "8       2.0         1  ...       2        2             1              2   \n",
      "9       2.0         2  ...       2        2             2              2   \n",
      "\n",
      "   CARDIOVASCULAR  OBESITY  RENAL_CHRONIC  TOBACCO  CLASIFFICATION_FINAL  ICU  \n",
      "1               2        1              1        2                     2  NaN  \n",
      "2               2        2              2        2                     1  2.0  \n",
      "3               2        2              2        2                     2  NaN  \n",
      "4               2        2              2        2                     1  NaN  \n",
      "5               2        2              2        2                     1  2.0  \n",
      "6               2        2              2        2                     1  NaN  \n",
      "7               2        2              1        2                     1  NaN  \n",
      "8               2        1              2        2                     1  2.0  \n",
      "9               2        2              2        2                     1  2.0  \n",
      "\n",
      "[9 rows x 21 columns]\n"
     ]
    },
    {
     "name": "stderr",
     "output_type": "stream",
     "text": [
      "/usr/local/lib/python3.11/dist-packages/pandas/io/formats/format.py:1458: RuntimeWarning: invalid value encountered in greater\n",
      "  has_large_values = (abs_vals > 1e6).any()\n",
      "/usr/local/lib/python3.11/dist-packages/pandas/io/formats/format.py:1459: RuntimeWarning: invalid value encountered in less\n",
      "  has_small_values = ((abs_vals < 10 ** (-self.digits)) & (abs_vals > 0)).any()\n",
      "/usr/local/lib/python3.11/dist-packages/pandas/io/formats/format.py:1459: RuntimeWarning: invalid value encountered in greater\n",
      "  has_small_values = ((abs_vals < 10 ** (-self.digits)) & (abs_vals > 0)).any()\n"
     ]
    }
   ],
   "source": [
    "print(covid_data.iloc[1:10,])"
   ]
  }
 ],
 "metadata": {
  "kaggle": {
   "accelerator": "none",
   "dataSources": [
    {
     "datasetId": 2633044,
     "sourceId": 4504149,
     "sourceType": "datasetVersion"
    }
   ],
   "dockerImageVersionId": 31040,
   "isGpuEnabled": false,
   "isInternetEnabled": true,
   "language": "python",
   "sourceType": "notebook"
  },
  "kernelspec": {
   "display_name": "Python 3",
   "language": "python",
   "name": "python3"
  },
  "language_info": {
   "codemirror_mode": {
    "name": "ipython",
    "version": 3
   },
   "file_extension": ".py",
   "mimetype": "text/x-python",
   "name": "python",
   "nbconvert_exporter": "python",
   "pygments_lexer": "ipython3",
   "version": "3.11.11"
  },
  "papermill": {
   "default_parameters": {},
   "duration": 11.855665,
   "end_time": "2025-06-11T12:44:28.686750",
   "environment_variables": {},
   "exception": null,
   "input_path": "__notebook__.ipynb",
   "output_path": "__notebook__.ipynb",
   "parameters": {},
   "start_time": "2025-06-11T12:44:16.831085",
   "version": "2.6.0"
  }
 },
 "nbformat": 4,
 "nbformat_minor": 5
}
